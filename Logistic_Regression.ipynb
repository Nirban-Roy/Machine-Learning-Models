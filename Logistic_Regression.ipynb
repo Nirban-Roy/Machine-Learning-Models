{
  "nbformat": 4,
  "nbformat_minor": 0,
  "metadata": {
    "colab": {
      "provenance": [],
      "authorship_tag": "ABX9TyPRGoof3RI7WNiV+3GeoHyr",
      "include_colab_link": true
    },
    "kernelspec": {
      "name": "python3",
      "display_name": "Python 3"
    },
    "language_info": {
      "name": "python"
    }
  },
  "cells": [
    {
      "cell_type": "markdown",
      "metadata": {
        "id": "view-in-github",
        "colab_type": "text"
      },
      "source": [
        "<a href=\"https://colab.research.google.com/github/Nirban-Roy/Machine-Learning-Models/blob/main/Logistic_Regression.ipynb\" target=\"_parent\"><img src=\"https://colab.research.google.com/assets/colab-badge.svg\" alt=\"Open In Colab\"/></a>"
      ]
    },
    {
      "cell_type": "markdown",
      "source": [
        "**Logistic Regression from Scratch**\n",
        "\n",
        "1. Set the learning rate and the epoch.\n",
        "2. Initiate Random weight and bias value\n",
        "3. Build Linear Regression Equation (y=wx+b)\n",
        "4. Continuously go on changing the value of w and b for the given number of epochs"
      ],
      "metadata": {
        "id": "E1KGLqrtvyEp"
      }
    },
    {
      "cell_type": "code",
      "execution_count": 3,
      "metadata": {
        "id": "ffpwGh9bj95i"
      },
      "outputs": [],
      "source": [
        "import numpy as np\n",
        "class Logistic_Regression():\n",
        "  def __init__(self,learning_rate,epoch):\n",
        "    self.learning_rate=learning_rate\n",
        "    self.epoch=epoch\n",
        "\n",
        "  def fit(self,X,Y):\n",
        "    self.m,self.n=X.shape\n",
        "    self.X=X\n",
        "    self.Y=Y\n",
        "    self.w=np.zeros(self.n)\n",
        "    self.b=0\n",
        "\n",
        "    for i in range(self.epoch):\n",
        "      update_weights()\n",
        "\n",
        "  def update_weights(self):\n",
        "    Y_hat=1/(1+np.exp(-(self.w.dot(self.X)+self.b)))\n",
        "    dw=(1/self.m)*np.dot(self.X.T,Y_hat-self.Y) # we are taking X transpose to make it compatible in multiplication with (Y_hat-Y)\n",
        "    db=(1/self.m)*(Y_hat-self.Y) # np.sum is used to convert the matrix to an integer\n",
        "    self.w=self.w-self.learning_rate*dw\n",
        "    self.b=self.b-self.learning_rate*db\n",
        "\n",
        "  # In the predict function we need to round off the value of Y_hat to either 0 or 1\n",
        "  def predict(self,X):\n",
        "    Y_pred=1/(1+np.exp(-(self.w.dot(X)+self.b)))\n",
        "    Y_pred=np.where(Y_pred>0.5,1,0)\n",
        "    return Y_pred"
      ]
    }
  ]
}