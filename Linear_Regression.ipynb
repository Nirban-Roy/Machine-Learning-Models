{
  "nbformat": 4,
  "nbformat_minor": 0,
  "metadata": {
    "colab": {
      "provenance": [],
      "authorship_tag": "ABX9TyN6Cd7tU7W9QJAycNRQTRWd",
      "include_colab_link": true
    },
    "kernelspec": {
      "name": "python3",
      "display_name": "Python 3"
    },
    "language_info": {
      "name": "python"
    }
  },
  "cells": [
    {
      "cell_type": "markdown",
      "metadata": {
        "id": "view-in-github",
        "colab_type": "text"
      },
      "source": [
        "<a href=\"https://colab.research.google.com/github/Nirban-Roy/Machine-Learning-Models/blob/main/Linear_Regression.ipynb\" target=\"_parent\"><img src=\"https://colab.research.google.com/assets/colab-badge.svg\" alt=\"Open In Colab\"/></a>"
      ]
    },
    {
      "cell_type": "markdown",
      "source": [
        "**Linear Regression from Scratch**\n",
        "1.   Set the learning rate and the epoch.\n",
        "2.   Initiate Random weight and bias value\n",
        "3. Build Linear Regression Equation (y=wx+b)\n",
        "4. Continuously go on changing the value of w and b for the given number of epochs\n"
      ],
      "metadata": {
        "id": "KL9GKQOLIUIh"
      }
    },
    {
      "cell_type": "code",
      "source": [
        "import numpy as np\n",
        "\n",
        "class Linear_Regression():\n",
        "\n",
        "#initiating the parameters\n",
        "  def __init__(self,learning_rate,no_of_iterations):\n",
        "    self.learningrate=learning_rate\n",
        "    self.no_of_iterations=no_of_iterations\n",
        "\n",
        "#intializing the X values and the Y values\n",
        "  def fit(self,X,Y):\n",
        "    self.m,self.n=X.shape\n",
        "    self.w=np.zeros(self.n) #no. of zeros = no. of features\n",
        "    self.b=0 #intialising the y-intercept\n",
        "    self.X=X\n",
        "    self.Y=Y\n",
        "\n",
        "    #gradient descent algorithm\n",
        "    for i in range(self.no_of_iterations):\n",
        "      self.updateweights()\n",
        "\n",
        "  def updateweights(self):\n",
        "    Y_pred=self.predict(self.X)\n",
        "    #gradients\n",
        "    dw=-(2*(self.X.T).dot(self.Y-Y_pred)/self.m) # we are taking X transpose to make it compatible in multiplication with (Y_hat-Y)\n",
        "    db=-(2*np.sum(self.Y-Y_pred))/self.m # np.sum is used to convert the matrix to an integer\n",
        "\n",
        "    #updating the weights\n",
        "    self.w=self.w-self.learningrate*dw\n",
        "    self.b=self.b-self.learningrate*db\n",
        "\n",
        "  def predict(self,X):\n",
        "    return X.dot(self.w)+self.b #forming the equation of line Y=wX+b"
      ],
      "metadata": {
        "id": "ejOwpaZcIbyF"
      },
      "execution_count": null,
      "outputs": []
    }
  ]
}